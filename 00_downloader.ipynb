{
 "cells": [
  {
   "cell_type": "code",
   "execution_count": null,
   "metadata": {},
   "outputs": [],
   "source": [
    "# default_exp downloader"
   ]
  },
  {
   "cell_type": "markdown",
   "metadata": {},
   "source": [
    "# Downloader\n",
    "\n",
    "> The module that handles the actual downloading."
   ]
  },
  {
   "cell_type": "code",
   "execution_count": null,
   "metadata": {},
   "outputs": [],
   "source": [
    "#hide\n",
    "from nbdev.showdoc import *"
   ]
  },
  {
   "cell_type": "code",
   "execution_count": null,
   "metadata": {},
   "outputs": [],
   "source": [
    "#export\n",
    "import pyrebase\n",
    "import json\n",
    "import os\n",
    "import time\n",
    "import numpy as np\n",
    "import pandas as pd\n",
    "\n",
    "def loadJson(path, default = {}):\n",
    "    \"\"\"Return dictionary from json file.\"\"\"\n",
    "    if os.path.isfile(path):\n",
    "        try:\n",
    "            with open(path, 'r', encoding = 'utf-8') as f:\n",
    "                return json.loads(f.read(), strict = False)\n",
    "        except:\n",
    "            return default\n",
    "    else:\n",
    "        return default\n",
    "\n",
    "\n",
    "def saveJson(data, path):\n",
    "    \"\"\"Save dictionary as json file.\"\"\"\n",
    "    with open(path, 'w+', encoding = 'utf-8') as f:\n",
    "        f.write(json.dumps(data, indent=1, sort_keys=True))\n",
    "\n",
    "\n",
    "class Downloader():\n",
    "    def __init__(self, google_services_path):\n",
    "        self.google_services_path = google_services_path\n",
    "        self.db = self.getDataBase()\n",
    "\n",
    "    def getDataBase(self):\n",
    "        google_services = loadJson(self.google_services_path)\n",
    "        # Configuring firebase\n",
    "        config = {\n",
    "            \"apiKey\": google_services['client'][0]['api_key'][0]['current_key'],\n",
    "            \"authDomain\": \"%s.firebaseapp.com\" % google_services['project_info']['project_id'],\n",
    "            \"databaseURL\": google_services['project_info']['firebase_url'],\n",
    "            \"storageBucket\": google_services['project_info']['storage_bucket']\n",
    "        }\n",
    "        firebase = pyrebase.initialize_app(config)\n",
    "        db = firebase.database()\n",
    "        return db\n",
    "\n",
    "    def download(self, experiment, storage_dir):\n",
    "        print(\"Getting pps for: \"+experiment)\n",
    "        pps = self.db.child(experiment).child(\"pps\").shallow().get().val()\n",
    "        pps = sorted(list(pps))\n",
    "\n",
    "        for pp in pps:\n",
    "            try:\n",
    "                path = os.path.join(storage_dir, \"%s.json\"%pp)\n",
    "                print(\"Syncing %s\" %pp)\n",
    "                participant = dict(self.db.child(experiment).child(\"pps/%s\" % (pp)).get().val())\n",
    "                participant['participantId'] = pp\n",
    "                participant['experiment'] = experiment\n",
    "                saveJson(participant, path)\n",
    "            except:\n",
    "                print(\"There was a problem with participant %s\"%pp)\n",
    "\n",
    "\n",
    "    def delete_participants(self, experiment):\n",
    "        answer = input(\"Warning: Are you sure you want to delete participants of experiment: %s?\\n\"%experiment)\n",
    "\n",
    "        if answer.lower()[0] == 'y':\n",
    "            pps = sorted(list(self.db.child(experiment).child(\"pps\").shallow().get().val()))\n",
    "            for pp in pps:\n",
    "                print(\"Deleting %s\" %pp)\n",
    "                self.db.child(experiment).child(\"pps/%s\" % (pp)).remove()\n"
   ]
  },
  {
   "cell_type": "code",
   "execution_count": null,
   "metadata": {},
   "outputs": [],
   "source": [
    "downloader = Downloader('data/external/google-services.json')"
   ]
  },
  {
   "cell_type": "code",
   "execution_count": null,
   "metadata": {},
   "outputs": [
    {
     "name": "stdout",
     "output_type": "stream",
     "text": [
      "Getting pps for: fooddemo\n",
      "Syncing kwxf1i42\n"
     ]
    }
   ],
   "source": [
    "downloader.download(\"fooddemo\", \"data/raw\")"
   ]
  }
 ],
 "metadata": {
  "kernelspec": {
   "display_name": "Python 3 (ipykernel)",
   "language": "python",
   "name": "python3"
  }
 },
 "nbformat": 4,
 "nbformat_minor": 4
}
